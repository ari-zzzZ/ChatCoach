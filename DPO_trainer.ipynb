{
 "cells": [
  {
   "cell_type": "code",
   "execution_count": 1,
   "id": "58e40c7f",
   "metadata": {},
   "outputs": [],
   "source": [
    "# Load model directly\n",
    "from transformers import AutoTokenizer, AutoModelForCausalLM\n",
    "\n",
    "model = AutoModelForCausalLM.from_pretrained(\"D:\\CoachBot\\SFTuned\")\n",
    "tokenizer=AutoTokenizer.from_pretrained(\"D:\\CoachBot\\SFTuned\", use_fast=False)"
   ]
  },
  {
   "cell_type": "code",
   "execution_count": 2,
   "id": "af2ab781",
   "metadata": {},
   "outputs": [],
   "source": [
    "from datasets import load_dataset\n",
    "from trl import DPOTrainer, DPOConfig\n",
    "#ds = load_dataset(\"entfane/psychotherapy-dpo\")\n",
    "ds = load_dataset(\"hungtuchen/MentalLlama-dpo-pairs\")"
   ]
  },
  {
   "cell_type": "code",
   "execution_count": 3,
   "id": "0d8257df",
   "metadata": {},
   "outputs": [
    {
     "name": "stdout",
     "output_type": "stream",
     "text": [
      "['prompt', 'chosen', 'rejected']\n"
     ]
    }
   ],
   "source": [
    "ds = ds.rename_column(\"Context\", \"prompt\")\n",
    "print(ds[\"train\"].column_names)  # 应该显示 ['prompt','chosen','rejected']"
   ]
  },
  {
   "cell_type": "code",
   "execution_count": 4,
   "id": "acdfe509",
   "metadata": {},
   "outputs": [
    {
     "data": {
      "text/plain": [
       "'ds = ds.remove_columns(\"illness\")\\nds = ds.rename_column(\"input\", \"prompt\")\\nprint(ds[\"train\"].column_names)  # 应该显示 [\\'prompt\\',\\'chosen\\',\\'rejected\\']'"
      ]
     },
     "execution_count": 4,
     "metadata": {},
     "output_type": "execute_result"
    }
   ],
   "source": [
    "'''ds = ds.remove_columns(\"illness\")\n",
    "ds = ds.rename_column(\"input\", \"prompt\")\n",
    "print(ds[\"train\"].column_names)  # 应该显示 ['prompt','chosen','rejected']'''"
   ]
  },
  {
   "cell_type": "code",
   "execution_count": 5,
   "id": "c50091f6",
   "metadata": {},
   "outputs": [
    {
     "data": {
      "text/plain": [
       "352"
      ]
     },
     "execution_count": 5,
     "metadata": {},
     "output_type": "execute_result"
    }
   ],
   "source": [
    "len(ds[\"train\"])"
   ]
  },
  {
   "cell_type": "code",
   "execution_count": 6,
   "id": "23a09203",
   "metadata": {},
   "outputs": [],
   "source": [
    "from peft import get_peft_config, get_peft_model, LoraConfig"
   ]
  },
  {
   "cell_type": "code",
   "execution_count": 7,
   "id": "dbb5ace9",
   "metadata": {},
   "outputs": [
    {
     "name": "stdout",
     "output_type": "stream",
     "text": [
      "可训练参数总数： 2293760\n"
     ]
    }
   ],
   "source": [
    "lora_config = LoraConfig(\n",
    "    r=8,                      \n",
    "    target_modules=[\"q_proj\",\"v_proj\", \"k_proj\", \"o_proj\", \"dense_h_to_4h\"],  \n",
    "    lora_alpha=32,\n",
    "    lora_dropout=0.1,\n",
    "    bias=\"none\",\n",
    ")\n",
    "\n",
    "model = get_peft_model(model, lora_config)\n",
    "\n",
    "n_trainable = sum(p.numel() for p in model.parameters() if p.requires_grad)\n",
    "print(\"可训练参数总数：\", n_trainable)"
   ]
  },
  {
   "cell_type": "code",
   "execution_count": 8,
   "id": "8623c38b",
   "metadata": {},
   "outputs": [
    {
     "name": "stderr",
     "output_type": "stream",
     "text": [
      "C:\\Users\\AriZu\\AppData\\Local\\Temp\\ipykernel_28700\\2156461788.py:15: FutureWarning: `tokenizer` is deprecated and removed starting from version 0.16.0 for `DPOTrainer.__init__`. Use `processing_class` instead.\n",
      "  trainer = DPOTrainer(\n",
      "No label_names provided for model class `PeftModel`. Since `PeftModel` hides base models input arguments, if label_names is not given, label_names can't be set automatically within `Trainer`. Note that empty label_names list will be used instead.\n"
     ]
    }
   ],
   "source": [
    "training_args = DPOConfig(\n",
    "    output_dir=\"./checkpoints\",            \n",
    "    per_device_train_batch_size=2,\n",
    "    gradient_accumulation_steps=6,\n",
    "    learning_rate=1e-5,\n",
    "    num_train_epochs=3,\n",
    "    logging_steps=5,\n",
    "    save_strategy=\"steps\",\n",
    "    save_steps=5,\n",
    "    save_total_limit=2, \n",
    "    gradient_checkpointing=True\n",
    "\n",
    ")\n",
    "model.gradient_checkpointing_enable()\n",
    "trainer = DPOTrainer(\n",
    "    model=model,\n",
    "    args=training_args,\n",
    "    train_dataset=ds[\"train\"],   \n",
    "    tokenizer=tokenizer,\n",
    ")"
   ]
  },
  {
   "cell_type": "code",
   "execution_count": 9,
   "id": "22c27523",
   "metadata": {},
   "outputs": [
    {
     "name": "stderr",
     "output_type": "stream",
     "text": [
      "`use_cache=True` is incompatible with gradient checkpointing. Setting `use_cache=False`.\n",
      "c:\\Users\\AriZu\\.conda\\envs\\train\\lib\\site-packages\\torch\\utils\\checkpoint.py:87: UserWarning: None of the inputs have requires_grad=True. Gradients will be None\n",
      "  warnings.warn(\n"
     ]
    },
    {
     "data": {
      "text/html": [
       "\n",
       "    <div>\n",
       "      \n",
       "      <progress value='87' max='87' style='width:300px; height:20px; vertical-align: middle;'></progress>\n",
       "      [87/87 18:35, Epoch 2/3]\n",
       "    </div>\n",
       "    <table border=\"1\" class=\"dataframe\">\n",
       "  <thead>\n",
       " <tr style=\"text-align: left;\">\n",
       "      <th>Step</th>\n",
       "      <th>Training Loss</th>\n",
       "    </tr>\n",
       "  </thead>\n",
       "  <tbody>\n",
       "    <tr>\n",
       "      <td>5</td>\n",
       "      <td>0.691000</td>\n",
       "    </tr>\n",
       "    <tr>\n",
       "      <td>10</td>\n",
       "      <td>0.678100</td>\n",
       "    </tr>\n",
       "    <tr>\n",
       "      <td>15</td>\n",
       "      <td>0.682800</td>\n",
       "    </tr>\n",
       "    <tr>\n",
       "      <td>20</td>\n",
       "      <td>0.675800</td>\n",
       "    </tr>\n",
       "    <tr>\n",
       "      <td>25</td>\n",
       "      <td>0.669200</td>\n",
       "    </tr>\n",
       "    <tr>\n",
       "      <td>30</td>\n",
       "      <td>0.596300</td>\n",
       "    </tr>\n",
       "    <tr>\n",
       "      <td>35</td>\n",
       "      <td>0.570400</td>\n",
       "    </tr>\n",
       "    <tr>\n",
       "      <td>40</td>\n",
       "      <td>0.551200</td>\n",
       "    </tr>\n",
       "    <tr>\n",
       "      <td>45</td>\n",
       "      <td>0.538100</td>\n",
       "    </tr>\n",
       "    <tr>\n",
       "      <td>50</td>\n",
       "      <td>0.546100</td>\n",
       "    </tr>\n",
       "    <tr>\n",
       "      <td>55</td>\n",
       "      <td>0.532100</td>\n",
       "    </tr>\n",
       "    <tr>\n",
       "      <td>60</td>\n",
       "      <td>0.448800</td>\n",
       "    </tr>\n",
       "    <tr>\n",
       "      <td>65</td>\n",
       "      <td>0.490900</td>\n",
       "    </tr>\n",
       "    <tr>\n",
       "      <td>70</td>\n",
       "      <td>0.492300</td>\n",
       "    </tr>\n",
       "    <tr>\n",
       "      <td>75</td>\n",
       "      <td>0.499600</td>\n",
       "    </tr>\n",
       "    <tr>\n",
       "      <td>80</td>\n",
       "      <td>0.478400</td>\n",
       "    </tr>\n",
       "    <tr>\n",
       "      <td>85</td>\n",
       "      <td>0.476600</td>\n",
       "    </tr>\n",
       "  </tbody>\n",
       "</table><p>"
      ],
      "text/plain": [
       "<IPython.core.display.HTML object>"
      ]
     },
     "metadata": {},
     "output_type": "display_data"
    },
    {
     "name": "stderr",
     "output_type": "stream",
     "text": [
      "c:\\Users\\AriZu\\.conda\\envs\\train\\lib\\site-packages\\peft\\utils\\save_and_load.py:195: UserWarning: Could not find a config file in D:\\CoachBot\\SFTuned - will assume that the vocabulary was not modified.\n",
      "  warnings.warn(\n",
      "c:\\Users\\AriZu\\.conda\\envs\\train\\lib\\site-packages\\torch\\utils\\checkpoint.py:87: UserWarning: None of the inputs have requires_grad=True. Gradients will be None\n",
      "  warnings.warn(\n",
      "c:\\Users\\AriZu\\.conda\\envs\\train\\lib\\site-packages\\peft\\utils\\save_and_load.py:195: UserWarning: Could not find a config file in D:\\CoachBot\\SFTuned - will assume that the vocabulary was not modified.\n",
      "  warnings.warn(\n",
      "c:\\Users\\AriZu\\.conda\\envs\\train\\lib\\site-packages\\torch\\utils\\checkpoint.py:87: UserWarning: None of the inputs have requires_grad=True. Gradients will be None\n",
      "  warnings.warn(\n",
      "c:\\Users\\AriZu\\.conda\\envs\\train\\lib\\site-packages\\peft\\utils\\save_and_load.py:195: UserWarning: Could not find a config file in D:\\CoachBot\\SFTuned - will assume that the vocabulary was not modified.\n",
      "  warnings.warn(\n",
      "c:\\Users\\AriZu\\.conda\\envs\\train\\lib\\site-packages\\torch\\utils\\checkpoint.py:87: UserWarning: None of the inputs have requires_grad=True. Gradients will be None\n",
      "  warnings.warn(\n",
      "c:\\Users\\AriZu\\.conda\\envs\\train\\lib\\site-packages\\peft\\utils\\save_and_load.py:195: UserWarning: Could not find a config file in D:\\CoachBot\\SFTuned - will assume that the vocabulary was not modified.\n",
      "  warnings.warn(\n",
      "c:\\Users\\AriZu\\.conda\\envs\\train\\lib\\site-packages\\torch\\utils\\checkpoint.py:87: UserWarning: None of the inputs have requires_grad=True. Gradients will be None\n",
      "  warnings.warn(\n",
      "c:\\Users\\AriZu\\.conda\\envs\\train\\lib\\site-packages\\peft\\utils\\save_and_load.py:195: UserWarning: Could not find a config file in D:\\CoachBot\\SFTuned - will assume that the vocabulary was not modified.\n",
      "  warnings.warn(\n",
      "c:\\Users\\AriZu\\.conda\\envs\\train\\lib\\site-packages\\torch\\utils\\checkpoint.py:87: UserWarning: None of the inputs have requires_grad=True. Gradients will be None\n",
      "  warnings.warn(\n",
      "c:\\Users\\AriZu\\.conda\\envs\\train\\lib\\site-packages\\peft\\utils\\save_and_load.py:195: UserWarning: Could not find a config file in D:\\CoachBot\\SFTuned - will assume that the vocabulary was not modified.\n",
      "  warnings.warn(\n",
      "c:\\Users\\AriZu\\.conda\\envs\\train\\lib\\site-packages\\torch\\utils\\checkpoint.py:87: UserWarning: None of the inputs have requires_grad=True. Gradients will be None\n",
      "  warnings.warn(\n",
      "c:\\Users\\AriZu\\.conda\\envs\\train\\lib\\site-packages\\peft\\utils\\save_and_load.py:195: UserWarning: Could not find a config file in D:\\CoachBot\\SFTuned - will assume that the vocabulary was not modified.\n",
      "  warnings.warn(\n",
      "c:\\Users\\AriZu\\.conda\\envs\\train\\lib\\site-packages\\torch\\utils\\checkpoint.py:87: UserWarning: None of the inputs have requires_grad=True. Gradients will be None\n",
      "  warnings.warn(\n",
      "c:\\Users\\AriZu\\.conda\\envs\\train\\lib\\site-packages\\peft\\utils\\save_and_load.py:195: UserWarning: Could not find a config file in D:\\CoachBot\\SFTuned - will assume that the vocabulary was not modified.\n",
      "  warnings.warn(\n",
      "c:\\Users\\AriZu\\.conda\\envs\\train\\lib\\site-packages\\torch\\utils\\checkpoint.py:87: UserWarning: None of the inputs have requires_grad=True. Gradients will be None\n",
      "  warnings.warn(\n",
      "c:\\Users\\AriZu\\.conda\\envs\\train\\lib\\site-packages\\peft\\utils\\save_and_load.py:195: UserWarning: Could not find a config file in D:\\CoachBot\\SFTuned - will assume that the vocabulary was not modified.\n",
      "  warnings.warn(\n",
      "c:\\Users\\AriZu\\.conda\\envs\\train\\lib\\site-packages\\torch\\utils\\checkpoint.py:87: UserWarning: None of the inputs have requires_grad=True. Gradients will be None\n",
      "  warnings.warn(\n",
      "c:\\Users\\AriZu\\.conda\\envs\\train\\lib\\site-packages\\peft\\utils\\save_and_load.py:195: UserWarning: Could not find a config file in D:\\CoachBot\\SFTuned - will assume that the vocabulary was not modified.\n",
      "  warnings.warn(\n",
      "c:\\Users\\AriZu\\.conda\\envs\\train\\lib\\site-packages\\torch\\utils\\checkpoint.py:87: UserWarning: None of the inputs have requires_grad=True. Gradients will be None\n",
      "  warnings.warn(\n",
      "c:\\Users\\AriZu\\.conda\\envs\\train\\lib\\site-packages\\peft\\utils\\save_and_load.py:195: UserWarning: Could not find a config file in D:\\CoachBot\\SFTuned - will assume that the vocabulary was not modified.\n",
      "  warnings.warn(\n",
      "c:\\Users\\AriZu\\.conda\\envs\\train\\lib\\site-packages\\torch\\utils\\checkpoint.py:87: UserWarning: None of the inputs have requires_grad=True. Gradients will be None\n",
      "  warnings.warn(\n",
      "c:\\Users\\AriZu\\.conda\\envs\\train\\lib\\site-packages\\peft\\utils\\save_and_load.py:195: UserWarning: Could not find a config file in D:\\CoachBot\\SFTuned - will assume that the vocabulary was not modified.\n",
      "  warnings.warn(\n",
      "c:\\Users\\AriZu\\.conda\\envs\\train\\lib\\site-packages\\torch\\utils\\checkpoint.py:87: UserWarning: None of the inputs have requires_grad=True. Gradients will be None\n",
      "  warnings.warn(\n",
      "c:\\Users\\AriZu\\.conda\\envs\\train\\lib\\site-packages\\peft\\utils\\save_and_load.py:195: UserWarning: Could not find a config file in D:\\CoachBot\\SFTuned - will assume that the vocabulary was not modified.\n",
      "  warnings.warn(\n",
      "c:\\Users\\AriZu\\.conda\\envs\\train\\lib\\site-packages\\torch\\utils\\checkpoint.py:87: UserWarning: None of the inputs have requires_grad=True. Gradients will be None\n",
      "  warnings.warn(\n",
      "c:\\Users\\AriZu\\.conda\\envs\\train\\lib\\site-packages\\peft\\utils\\save_and_load.py:195: UserWarning: Could not find a config file in D:\\CoachBot\\SFTuned - will assume that the vocabulary was not modified.\n",
      "  warnings.warn(\n",
      "c:\\Users\\AriZu\\.conda\\envs\\train\\lib\\site-packages\\torch\\utils\\checkpoint.py:87: UserWarning: None of the inputs have requires_grad=True. Gradients will be None\n",
      "  warnings.warn(\n",
      "c:\\Users\\AriZu\\.conda\\envs\\train\\lib\\site-packages\\peft\\utils\\save_and_load.py:195: UserWarning: Could not find a config file in D:\\CoachBot\\SFTuned - will assume that the vocabulary was not modified.\n",
      "  warnings.warn(\n",
      "c:\\Users\\AriZu\\.conda\\envs\\train\\lib\\site-packages\\torch\\utils\\checkpoint.py:87: UserWarning: None of the inputs have requires_grad=True. Gradients will be None\n",
      "  warnings.warn(\n",
      "c:\\Users\\AriZu\\.conda\\envs\\train\\lib\\site-packages\\peft\\utils\\save_and_load.py:195: UserWarning: Could not find a config file in D:\\CoachBot\\SFTuned - will assume that the vocabulary was not modified.\n",
      "  warnings.warn(\n",
      "c:\\Users\\AriZu\\.conda\\envs\\train\\lib\\site-packages\\torch\\utils\\checkpoint.py:87: UserWarning: None of the inputs have requires_grad=True. Gradients will be None\n",
      "  warnings.warn(\n",
      "c:\\Users\\AriZu\\.conda\\envs\\train\\lib\\site-packages\\peft\\utils\\save_and_load.py:195: UserWarning: Could not find a config file in D:\\CoachBot\\SFTuned - will assume that the vocabulary was not modified.\n",
      "  warnings.warn(\n",
      "c:\\Users\\AriZu\\.conda\\envs\\train\\lib\\site-packages\\torch\\utils\\checkpoint.py:87: UserWarning: None of the inputs have requires_grad=True. Gradients will be None\n",
      "  warnings.warn(\n",
      "c:\\Users\\AriZu\\.conda\\envs\\train\\lib\\site-packages\\peft\\utils\\save_and_load.py:195: UserWarning: Could not find a config file in D:\\CoachBot\\SFTuned - will assume that the vocabulary was not modified.\n",
      "  warnings.warn(\n",
      "c:\\Users\\AriZu\\.conda\\envs\\train\\lib\\site-packages\\peft\\utils\\save_and_load.py:195: UserWarning: Could not find a config file in D:\\CoachBot\\SFTuned - will assume that the vocabulary was not modified.\n",
      "  warnings.warn(\n"
     ]
    },
    {
     "data": {
      "text/plain": [
       "('./DPO_1\\\\tokenizer_config.json',\n",
       " './DPO_1\\\\special_tokens_map.json',\n",
       " './DPO_1\\\\vocab.json',\n",
       " './DPO_1\\\\merges.txt',\n",
       " './DPO_1\\\\added_tokens.json')"
      ]
     },
     "execution_count": 9,
     "metadata": {},
     "output_type": "execute_result"
    }
   ],
   "source": [
    "trainer.train()\n",
    "\n",
    "model.save_pretrained(\"./DPO_1\")\n",
    "tokenizer.save_pretrained(\"./DPO_1\")"
   ]
  }
 ],
 "metadata": {
  "kernelspec": {
   "display_name": "train",
   "language": "python",
   "name": "python3"
  },
  "language_info": {
   "codemirror_mode": {
    "name": "ipython",
    "version": 3
   },
   "file_extension": ".py",
   "mimetype": "text/x-python",
   "name": "python",
   "nbconvert_exporter": "python",
   "pygments_lexer": "ipython3",
   "version": "3.10.16"
  }
 },
 "nbformat": 4,
 "nbformat_minor": 5
}
